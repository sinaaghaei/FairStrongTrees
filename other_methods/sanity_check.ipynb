{
 "cells": [
  {
   "cell_type": "code",
   "execution_count": 76,
   "id": "622bd43d",
   "metadata": {},
   "outputs": [],
   "source": [
    "import pandas as pd\n",
    "import numpy as np\n",
    "import os\n",
    "import matplotlib.pyplot as plt"
   ]
  },
  {
   "cell_type": "markdown",
   "id": "ab7a43e7",
   "metadata": {},
   "source": [
    "### Check if all train-test splits contain all levels of the protected attribute"
   ]
  },
  {
   "cell_type": "markdown",
   "id": "d2c9a4a1",
   "metadata": {},
   "source": [
    "Compas has 4 protected attributes"
   ]
  },
  {
   "cell_type": "code",
   "execution_count": 5,
   "id": "5e29bfae",
   "metadata": {},
   "outputs": [],
   "source": [
    "dataset = 'compas'\n",
    "protected = 'race'\n",
    "splits = range(1, 6)"
   ]
  },
  {
   "cell_type": "code",
   "execution_count": 6,
   "id": "91575a81",
   "metadata": {},
   "outputs": [],
   "source": [
    "for s in splits:\n",
    "    train_df = pd.read_csv(f'../DataSets/{dataset}_train_{s}.csv')\n",
    "    test_df = pd.read_csv(f'../DataSets/{dataset}_test_{s}.csv')\n",
    "    if len(train_df[protected].unique()) != 4:\n",
    "        print(s)\n",
    "    if len(test_df[protected].unique()) != 4:\n",
    "        print(s)"
   ]
  },
  {
   "cell_type": "markdown",
   "id": "99d8b714",
   "metadata": {},
   "source": [
    "Adult has 2 genders"
   ]
  },
  {
   "cell_type": "code",
   "execution_count": 7,
   "id": "f1fec9bc",
   "metadata": {},
   "outputs": [],
   "source": [
    "dataset = 'adult'\n",
    "protected = 'sex'\n",
    "splits = range(1, 6)"
   ]
  },
  {
   "cell_type": "code",
   "execution_count": 11,
   "id": "9fb141b5",
   "metadata": {},
   "outputs": [],
   "source": [
    "for s in splits:\n",
    "    train_df = pd.read_csv(f'../DataSets/{dataset}_train_{s}.csv')\n",
    "    test_df = pd.read_csv(f'../DataSets/{dataset}_test_{s}.csv')\n",
    "#     print(train_df[protected].unique())\n",
    "    if len(train_df[protected].unique()) != 2:\n",
    "        print(s)\n",
    "    if len(test_df[protected].unique()) != 2:\n",
    "        print(s)"
   ]
  },
  {
   "cell_type": "markdown",
   "id": "bf34b46e",
   "metadata": {},
   "source": [
    "Default"
   ]
  },
  {
   "cell_type": "code",
   "execution_count": 18,
   "id": "67401090",
   "metadata": {},
   "outputs": [],
   "source": [
    "# split kamiran's version of german because this has binary age\n",
    "df = pd.read_csv(f'../DataSets/default.csv')\n",
    "df_enc = pd.read_csv(f'../DataSets/default_enc.csv')"
   ]
  },
  {
   "cell_type": "markdown",
   "id": "666f7924",
   "metadata": {},
   "source": [
    "German"
   ]
  },
  {
   "cell_type": "code",
   "execution_count": 35,
   "id": "a044cdb5",
   "metadata": {},
   "outputs": [
    {
     "data": {
      "text/plain": [
       "{'Credit_amo',\n",
       " 'Housing',\n",
       " 'age',\n",
       " 'chek_acc',\n",
       " 'credit_history',\n",
       " 'existing_cards',\n",
       " 'foreign_worker',\n",
       " 'guatan',\n",
       " 'installment',\n",
       " 'instalrate',\n",
       " 'job',\n",
       " 'month_duration',\n",
       " 'no_people',\n",
       " 'p_status',\n",
       " 'present_employmment',\n",
       " 'present_resident',\n",
       " 'property',\n",
       " 'purpose',\n",
       " 'saving_amo',\n",
       " 'telephn'}"
      ]
     },
     "execution_count": 35,
     "metadata": {},
     "output_type": "execute_result"
    }
   ],
   "source": [
    "set(df.columns) - {'target'}"
   ]
  },
  {
   "cell_type": "code",
   "execution_count": 64,
   "id": "e991b4d0",
   "metadata": {},
   "outputs": [],
   "source": [
    "dataset = 'german'"
   ]
  },
  {
   "cell_type": "code",
   "execution_count": 69,
   "id": "e18792f9",
   "metadata": {},
   "outputs": [],
   "source": [
    "# split kamiran's version of german because this has binary age\n",
    "df = pd.read_csv(f'../DataSets/KamiranVersion/{dataset}.csv')\n",
    "df_enc = pd.read_csv(f'../DataSets/KamiranVersion/{dataset}_enc.csv')"
   ]
  },
  {
   "cell_type": "code",
   "execution_count": 82,
   "id": "d17ab8e5",
   "metadata": {},
   "outputs": [],
   "source": [
    "X = df.loc[:, df.columns != 'target']\n",
    "y = df['target']\n",
    "\n",
    "X_train, X_test, y_train, y_test = train_test_split(X, y, \n",
    "                                                    test_size = 0.25, random_state=1)"
   ]
  },
  {
   "cell_type": "code",
   "execution_count": 90,
   "id": "4d6baac6",
   "metadata": {},
   "outputs": [
    {
     "data": {
      "text/plain": [
       "Index(['chek_acc', 'month_duration', 'credit_history', 'purpose', 'Credit_amo',\n",
       "       'saving_amo', 'present_employmment', 'instalrate', 'p_status', 'guatan',\n",
       "       'present_resident', 'property', 'age', 'installment', 'Housing',\n",
       "       'existing_cards', 'job', 'no_people', 'telephn', 'foreign_worker',\n",
       "       'target'],\n",
       "      dtype='object')"
      ]
     },
     "execution_count": 90,
     "metadata": {},
     "output_type": "execute_result"
    }
   ],
   "source": [
    "df.columns"
   ]
  },
  {
   "cell_type": "code",
   "execution_count": 83,
   "id": "6e6adeb5",
   "metadata": {},
   "outputs": [],
   "source": [
    "feature_names = [f\"feature {i}\" for i in range(X_train.shape[1])]"
   ]
  },
  {
   "cell_type": "code",
   "execution_count": 84,
   "id": "910b115f",
   "metadata": {},
   "outputs": [
    {
     "data": {
      "text/plain": [
       "RandomForestClassifier(random_state=0)"
      ]
     },
     "execution_count": 84,
     "metadata": {},
     "output_type": "execute_result"
    }
   ],
   "source": [
    "from sklearn.ensemble import RandomForestClassifier\n",
    "feature_names = X_train.columns\n",
    "# feature_names = [f\"feature {i}\" for i in range(X_train.shape[1])]\n",
    "forest = RandomForestClassifier(random_state=0)\n",
    "forest.fit(X_train, y_train)"
   ]
  },
  {
   "cell_type": "code",
   "execution_count": 85,
   "id": "f6f0be16",
   "metadata": {},
   "outputs": [
    {
     "name": "stdout",
     "output_type": "stream",
     "text": [
      "Elapsed time to compute the importances: 0.022 seconds\n"
     ]
    }
   ],
   "source": [
    "import time\n",
    "import numpy as np\n",
    "\n",
    "start_time = time.time()\n",
    "importances = forest.feature_importances_\n",
    "std = np.std([tree.feature_importances_ for tree in forest.estimators_], axis=0)\n",
    "elapsed_time = time.time() - start_time\n",
    "\n",
    "print(f\"Elapsed time to compute the importances: {elapsed_time:.3f} seconds\")"
   ]
  },
  {
   "cell_type": "code",
   "execution_count": 67,
   "id": "2438197a",
   "metadata": {},
   "outputs": [],
   "source": [
    "from sklearn.model_selection import train_test_split\n",
    "\n",
    "seeds = [1, 5, 100, 99, 81]\n",
    "for i, s in enumerate(seeds):\n",
    "    X = df.loc[:, df.columns != 'target']\n",
    "    y = df['target']\n",
    "\n",
    "    X_train, X_test, y_train, y_test = train_test_split(X, y, \n",
    "                                                        test_size = 0.25, random_state=s)\n",
    "    \n",
    "    df_train = pd.concat([X_train, y_train], axis=1)\n",
    "    df_test = pd.concat([X_test, y_test], axis=1)\n",
    "    \n",
    "    df_train.to_csv(f'../DataSets/german_binary_train_{i+1}.csv')\n",
    "    df_test.to_csv(f'../DataSets/german_binary_test_{i+1}.csv')"
   ]
  },
  {
   "cell_type": "code",
   "execution_count": 68,
   "id": "c1806db3",
   "metadata": {},
   "outputs": [],
   "source": [
    "seeds = [1, 5, 100, 99, 81]\n",
    "for i, s in enumerate(seeds):\n",
    "    X = df_enc.loc[:, df_enc.columns != 'target']\n",
    "    y = df_enc['target']\n",
    "\n",
    "    X_train, X_test, y_train, y_test = train_test_split(X, y, \n",
    "                                                        test_size = 0.25, random_state=s)\n",
    "    \n",
    "    df_train = pd.concat([X_train, y_train], axis=1)\n",
    "    df_test = pd.concat([X_test, y_test], axis=1)\n",
    "    \n",
    "    df_train.to_csv(f'../DataSets/german_binary_train_enc_{i+1}.csv')\n",
    "    df_test.to_csv(f'../DataSets/german_binary_test_enc_{i+1}.csv')"
   ]
  },
  {
   "cell_type": "code",
   "execution_count": 57,
   "id": "26c78677",
   "metadata": {},
   "outputs": [],
   "source": [
    "dataset = 'german_binary'\n",
    "protected = 'age'\n",
    "splits = range(1, 6)"
   ]
  },
  {
   "cell_type": "code",
   "execution_count": 58,
   "id": "617c7647",
   "metadata": {},
   "outputs": [],
   "source": [
    "for s in splits:\n",
    "    train_df = pd.read_csv(f'../DataSets/{dataset}_train_{s}.csv')\n",
    "    test_df = pd.read_csv(f'../DataSets/{dataset}_test_{s}.csv')\n",
    "#     print(len(train_df))\n",
    "#     print(len(test_df))\n",
    "    if len(train_df[protected].unique()) != 2:\n",
    "        print(s)\n",
    "    if len(test_df[protected].unique()) != 2:\n",
    "        print(s)"
   ]
  },
  {
   "cell_type": "code",
   "execution_count": null,
   "id": "e8cd539d",
   "metadata": {},
   "outputs": [],
   "source": []
  }
 ],
 "metadata": {
  "kernelspec": {
   "display_name": "Python 3",
   "language": "python",
   "name": "python3"
  },
  "language_info": {
   "codemirror_mode": {
    "name": "ipython",
    "version": 3
   },
   "file_extension": ".py",
   "mimetype": "text/x-python",
   "name": "python",
   "nbconvert_exporter": "python",
   "pygments_lexer": "ipython3",
   "version": "3.8.8"
  }
 },
 "nbformat": 4,
 "nbformat_minor": 5
}
