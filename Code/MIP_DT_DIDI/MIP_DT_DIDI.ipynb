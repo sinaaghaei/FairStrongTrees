{
 "cells": [
  {
   "cell_type": "code",
   "execution_count": 48,
   "metadata": {},
   "outputs": [],
   "source": [
    "using DataFrames;\n",
    "using JuMP\n",
    "using Gurobi\n",
    "using CSV\n",
    "using JLD\n",
    "using Combinatorics\n",
    "\n",
    "\n",
    "\n",
    "using Printf\n",
    "# In this code we save the prediction value as a new column called \"class_pred\" in the data_train and data_test;\n",
    "# So if we have already a column with this name we may get in trouble"
   ]
  },
  {
   "cell_type": "code",
   "execution_count": 81,
   "metadata": {},
   "outputs": [],
   "source": [
    "#####################################################\n",
    "# Arguments that we need from the user\n",
    "#####################################################\n",
    "data_group = \"adult\"; # or compas, adult, german\n",
    "# kamiran_version = 1 if we use the kamiran version of the data; \n",
    "# In this case SP is just the difference between positive outcome probability between non_deprived and deprived group\n",
    "kamiran_version = 0; \n",
    "sample = 2;\n",
    "depth = 2;\n",
    "lambda = 0;\n",
    "time_limit = 400;\n",
    "\n",
    "\n",
    "\n",
    "train_file_name = data_group*\"_train_\"*string(sample)*\".csv\";\n",
    "test_file_name = data_group*\"_test_\"*string(sample)*\".csv\";\n",
    "calibration_file_name = data_group*\"_calibration_\"*string(sample)*\".csv\";\n"
   ]
  },
  {
   "cell_type": "code",
   "execution_count": 82,
   "metadata": {
    "scrolled": true
   },
   "outputs": [
    {
     "data": {
      "text/html": [
       "<div><div style = \"float: left;\"><span>7540×13 DataFrame</span></div><div style = \"float: right;\"><span style = \"font-style: italic;\">7515 rows omitted</span></div><div style = \"clear: both;\"></div></div><div class = \"data-frame\" style = \"overflow-x: scroll;\"><table class = \"data-frame\" style = \"margin-bottom: 6px;\"><thead><tr class = \"header\"><th class = \"rowNumber\" style = \"font-weight: bold; text-align: right;\">Row</th><th style = \"text-align: left;\">workclass</th><th style = \"text-align: left;\">education</th><th style = \"text-align: left;\">marital_status</th><th style = \"text-align: left;\">occupation</th><th style = \"text-align: left;\">relationship</th><th style = \"text-align: left;\">race</th><th style = \"text-align: left;\">sex</th><th style = \"text-align: left;\">native_country</th><th style = \"text-align: left;\">target</th><th style = \"text-align: left;\">fnlwgt</th><th style = \"text-align: left;\">hours_per_week</th><th style = \"text-align: left;\">capital</th><th style = \"text-align: left;\">age_group</th></tr><tr class = \"subheader headerLastRow\"><th class = \"rowNumber\" style = \"font-weight: bold; text-align: right;\"></th><th title = \"Int64\" style = \"text-align: left;\">Int64</th><th title = \"Int64\" style = \"text-align: left;\">Int64</th><th title = \"Int64\" style = \"text-align: left;\">Int64</th><th title = \"Int64\" style = \"text-align: left;\">Int64</th><th title = \"Int64\" style = \"text-align: left;\">Int64</th><th title = \"Int64\" style = \"text-align: left;\">Int64</th><th title = \"Int64\" style = \"text-align: left;\">Int64</th><th title = \"Int64\" style = \"text-align: left;\">Int64</th><th title = \"Int64\" style = \"text-align: left;\">Int64</th><th title = \"Int64\" style = \"text-align: left;\">Int64</th><th title = \"Int64\" style = \"text-align: left;\">Int64</th><th title = \"Int64\" style = \"text-align: left;\">Int64</th><th title = \"Int64\" style = \"text-align: left;\">Int64</th></tr></thead><tbody><tr><td class = \"rowNumber\" style = \"font-weight: bold; text-align: right;\">1</td><td style = \"text-align: right;\">3</td><td style = \"text-align: right;\">1</td><td style = \"text-align: right;\">1</td><td style = \"text-align: right;\">12</td><td style = \"text-align: right;\">5</td><td style = \"text-align: right;\">3</td><td style = \"text-align: right;\">1</td><td style = \"text-align: right;\">2</td><td style = \"text-align: right;\">1</td><td style = \"text-align: right;\">2</td><td style = \"text-align: right;\">2</td><td style = \"text-align: right;\">2</td><td style = \"text-align: right;\">3</td></tr><tr><td class = \"rowNumber\" style = \"font-weight: bold; text-align: right;\">2</td><td style = \"text-align: right;\">3</td><td style = \"text-align: right;\">3</td><td style = \"text-align: right;\">3</td><td style = \"text-align: right;\">9</td><td style = \"text-align: right;\">2</td><td style = \"text-align: right;\">5</td><td style = \"text-align: right;\">1</td><td style = \"text-align: right;\">1</td><td style = \"text-align: right;\">1</td><td style = \"text-align: right;\">4</td><td style = \"text-align: right;\">2</td><td style = \"text-align: right;\">2</td><td style = \"text-align: right;\">1</td></tr><tr><td class = \"rowNumber\" style = \"font-weight: bold; text-align: right;\">3</td><td style = \"text-align: right;\">3</td><td style = \"text-align: right;\">6</td><td style = \"text-align: right;\">1</td><td style = \"text-align: right;\">1</td><td style = \"text-align: right;\">5</td><td style = \"text-align: right;\">5</td><td style = \"text-align: right;\">1</td><td style = \"text-align: right;\">2</td><td style = \"text-align: right;\">1</td><td style = \"text-align: right;\">3</td><td style = \"text-align: right;\">2</td><td style = \"text-align: right;\">2</td><td style = \"text-align: right;\">2</td></tr><tr><td class = \"rowNumber\" style = \"font-weight: bold; text-align: right;\">4</td><td style = \"text-align: right;\">3</td><td style = \"text-align: right;\">2</td><td style = \"text-align: right;\">3</td><td style = \"text-align: right;\">1</td><td style = \"text-align: right;\">4</td><td style = \"text-align: right;\">5</td><td style = \"text-align: right;\">1</td><td style = \"text-align: right;\">2</td><td style = \"text-align: right;\">1</td><td style = \"text-align: right;\">2</td><td style = \"text-align: right;\">3</td><td style = \"text-align: right;\">2</td><td style = \"text-align: right;\">1</td></tr><tr><td class = \"rowNumber\" style = \"font-weight: bold; text-align: right;\">5</td><td style = \"text-align: right;\">1</td><td style = \"text-align: right;\">3</td><td style = \"text-align: right;\">1</td><td style = \"text-align: right;\">8</td><td style = \"text-align: right;\">2</td><td style = \"text-align: right;\">2</td><td style = \"text-align: right;\">1</td><td style = \"text-align: right;\">2</td><td style = \"text-align: right;\">1</td><td style = \"text-align: right;\">1</td><td style = \"text-align: right;\">2</td><td style = \"text-align: right;\">2</td><td style = \"text-align: right;\">4</td></tr><tr><td class = \"rowNumber\" style = \"font-weight: bold; text-align: right;\">6</td><td style = \"text-align: right;\">3</td><td style = \"text-align: right;\">4</td><td style = \"text-align: right;\">3</td><td style = \"text-align: right;\">8</td><td style = \"text-align: right;\">2</td><td style = \"text-align: right;\">5</td><td style = \"text-align: right;\">1</td><td style = \"text-align: right;\">2</td><td style = \"text-align: right;\">1</td><td style = \"text-align: right;\">4</td><td style = \"text-align: right;\">2</td><td style = \"text-align: right;\">2</td><td style = \"text-align: right;\">2</td></tr><tr><td class = \"rowNumber\" style = \"font-weight: bold; text-align: right;\">7</td><td style = \"text-align: right;\">3</td><td style = \"text-align: right;\">1</td><td style = \"text-align: right;\">3</td><td style = \"text-align: right;\">13</td><td style = \"text-align: right;\">2</td><td style = \"text-align: right;\">5</td><td style = \"text-align: right;\">1</td><td style = \"text-align: right;\">2</td><td style = \"text-align: right;\">1</td><td style = \"text-align: right;\">4</td><td style = \"text-align: right;\">1</td><td style = \"text-align: right;\">2</td><td style = \"text-align: right;\">2</td></tr><tr><td class = \"rowNumber\" style = \"font-weight: bold; text-align: right;\">8</td><td style = \"text-align: right;\">3</td><td style = \"text-align: right;\">4</td><td style = \"text-align: right;\">1</td><td style = \"text-align: right;\">1</td><td style = \"text-align: right;\">4</td><td style = \"text-align: right;\">3</td><td style = \"text-align: right;\">1</td><td style = \"text-align: right;\">2</td><td style = \"text-align: right;\">1</td><td style = \"text-align: right;\">3</td><td style = \"text-align: right;\">2</td><td style = \"text-align: right;\">2</td><td style = \"text-align: right;\">1</td></tr><tr><td class = \"rowNumber\" style = \"font-weight: bold; text-align: right;\">9</td><td style = \"text-align: right;\">3</td><td style = \"text-align: right;\">2</td><td style = \"text-align: right;\">3</td><td style = \"text-align: right;\">1</td><td style = \"text-align: right;\">2</td><td style = \"text-align: right;\">3</td><td style = \"text-align: right;\">1</td><td style = \"text-align: right;\">2</td><td style = \"text-align: right;\">1</td><td style = \"text-align: right;\">4</td><td style = \"text-align: right;\">2</td><td style = \"text-align: right;\">2</td><td style = \"text-align: right;\">1</td></tr><tr><td class = \"rowNumber\" style = \"font-weight: bold; text-align: right;\">10</td><td style = \"text-align: right;\">3</td><td style = \"text-align: right;\">3</td><td style = \"text-align: right;\">3</td><td style = \"text-align: right;\">8</td><td style = \"text-align: right;\">4</td><td style = \"text-align: right;\">5</td><td style = \"text-align: right;\">1</td><td style = \"text-align: right;\">2</td><td style = \"text-align: right;\">1</td><td style = \"text-align: right;\">4</td><td style = \"text-align: right;\">1</td><td style = \"text-align: right;\">2</td><td style = \"text-align: right;\">1</td></tr><tr><td class = \"rowNumber\" style = \"font-weight: bold; text-align: right;\">11</td><td style = \"text-align: right;\">3</td><td style = \"text-align: right;\">2</td><td style = \"text-align: right;\">1</td><td style = \"text-align: right;\">1</td><td style = \"text-align: right;\">5</td><td style = \"text-align: right;\">5</td><td style = \"text-align: right;\">1</td><td style = \"text-align: right;\">2</td><td style = \"text-align: right;\">1</td><td style = \"text-align: right;\">2</td><td style = \"text-align: right;\">4</td><td style = \"text-align: right;\">2</td><td style = \"text-align: right;\">3</td></tr><tr><td class = \"rowNumber\" style = \"font-weight: bold; text-align: right;\">12</td><td style = \"text-align: right;\">3</td><td style = \"text-align: right;\">6</td><td style = \"text-align: right;\">1</td><td style = \"text-align: right;\">8</td><td style = \"text-align: right;\">5</td><td style = \"text-align: right;\">5</td><td style = \"text-align: right;\">1</td><td style = \"text-align: right;\">2</td><td style = \"text-align: right;\">1</td><td style = \"text-align: right;\">4</td><td style = \"text-align: right;\">2</td><td style = \"text-align: right;\">2</td><td style = \"text-align: right;\">2</td></tr><tr><td class = \"rowNumber\" style = \"font-weight: bold; text-align: right;\">13</td><td style = \"text-align: right;\">3</td><td style = \"text-align: right;\">6</td><td style = \"text-align: right;\">3</td><td style = \"text-align: right;\">1</td><td style = \"text-align: right;\">4</td><td style = \"text-align: right;\">5</td><td style = \"text-align: right;\">1</td><td style = \"text-align: right;\">2</td><td style = \"text-align: right;\">1</td><td style = \"text-align: right;\">4</td><td style = \"text-align: right;\">2</td><td style = \"text-align: right;\">2</td><td style = \"text-align: right;\">1</td></tr><tr><td style = \"text-align: right;\">&vellip;</td><td style = \"text-align: right;\">&vellip;</td><td style = \"text-align: right;\">&vellip;</td><td style = \"text-align: right;\">&vellip;</td><td style = \"text-align: right;\">&vellip;</td><td style = \"text-align: right;\">&vellip;</td><td style = \"text-align: right;\">&vellip;</td><td style = \"text-align: right;\">&vellip;</td><td style = \"text-align: right;\">&vellip;</td><td style = \"text-align: right;\">&vellip;</td><td style = \"text-align: right;\">&vellip;</td><td style = \"text-align: right;\">&vellip;</td><td style = \"text-align: right;\">&vellip;</td><td style = \"text-align: right;\">&vellip;</td></tr><tr><td class = \"rowNumber\" style = \"font-weight: bold; text-align: right;\">7529</td><td style = \"text-align: right;\">1</td><td style = \"text-align: right;\">3</td><td style = \"text-align: right;\">3</td><td style = \"text-align: right;\">4</td><td style = \"text-align: right;\">2</td><td style = \"text-align: right;\">5</td><td style = \"text-align: right;\">2</td><td style = \"text-align: right;\">2</td><td style = \"text-align: right;\">2</td><td style = \"text-align: right;\">3</td><td style = \"text-align: right;\">3</td><td style = \"text-align: right;\">2</td><td style = \"text-align: right;\">1</td></tr><tr><td class = \"rowNumber\" style = \"font-weight: bold; text-align: right;\">7530</td><td style = \"text-align: right;\">3</td><td style = \"text-align: right;\">3</td><td style = \"text-align: right;\">1</td><td style = \"text-align: right;\">12</td><td style = \"text-align: right;\">2</td><td style = \"text-align: right;\">5</td><td style = \"text-align: right;\">2</td><td style = \"text-align: right;\">2</td><td style = \"text-align: right;\">2</td><td style = \"text-align: right;\">1</td><td style = \"text-align: right;\">3</td><td style = \"text-align: right;\">2</td><td style = \"text-align: right;\">2</td></tr><tr><td class = \"rowNumber\" style = \"font-weight: bold; text-align: right;\">7531</td><td style = \"text-align: right;\">3</td><td style = \"text-align: right;\">2</td><td style = \"text-align: right;\">2</td><td style = \"text-align: right;\">10</td><td style = \"text-align: right;\">1</td><td style = \"text-align: right;\">5</td><td style = \"text-align: right;\">2</td><td style = \"text-align: right;\">2</td><td style = \"text-align: right;\">2</td><td style = \"text-align: right;\">4</td><td style = \"text-align: right;\">2</td><td style = \"text-align: right;\">3</td><td style = \"text-align: right;\">3</td></tr><tr><td class = \"rowNumber\" style = \"font-weight: bold; text-align: right;\">7532</td><td style = \"text-align: right;\">3</td><td style = \"text-align: right;\">4</td><td style = \"text-align: right;\">2</td><td style = \"text-align: right;\">7</td><td style = \"text-align: right;\">1</td><td style = \"text-align: right;\">5</td><td style = \"text-align: right;\">2</td><td style = \"text-align: right;\">2</td><td style = \"text-align: right;\">2</td><td style = \"text-align: right;\">3</td><td style = \"text-align: right;\">2</td><td style = \"text-align: right;\">2</td><td style = \"text-align: right;\">2</td></tr><tr><td class = \"rowNumber\" style = \"font-weight: bold; text-align: right;\">7533</td><td style = \"text-align: right;\">3</td><td style = \"text-align: right;\">2</td><td style = \"text-align: right;\">2</td><td style = \"text-align: right;\">10</td><td style = \"text-align: right;\">1</td><td style = \"text-align: right;\">5</td><td style = \"text-align: right;\">2</td><td style = \"text-align: right;\">2</td><td style = \"text-align: right;\">2</td><td style = \"text-align: right;\">3</td><td style = \"text-align: right;\">3</td><td style = \"text-align: right;\">2</td><td style = \"text-align: right;\">2</td></tr><tr><td class = \"rowNumber\" style = \"font-weight: bold; text-align: right;\">7534</td><td style = \"text-align: right;\">3</td><td style = \"text-align: right;\">4</td><td style = \"text-align: right;\">2</td><td style = \"text-align: right;\">3</td><td style = \"text-align: right;\">1</td><td style = \"text-align: right;\">5</td><td style = \"text-align: right;\">2</td><td style = \"text-align: right;\">2</td><td style = \"text-align: right;\">2</td><td style = \"text-align: right;\">1</td><td style = \"text-align: right;\">2</td><td style = \"text-align: right;\">2</td><td style = \"text-align: right;\">2</td></tr><tr><td class = \"rowNumber\" style = \"font-weight: bold; text-align: right;\">7535</td><td style = \"text-align: right;\">3</td><td style = \"text-align: right;\">1</td><td style = \"text-align: right;\">2</td><td style = \"text-align: right;\">12</td><td style = \"text-align: right;\">1</td><td style = \"text-align: right;\">4</td><td style = \"text-align: right;\">2</td><td style = \"text-align: right;\">1</td><td style = \"text-align: right;\">2</td><td style = \"text-align: right;\">1</td><td style = \"text-align: right;\">2</td><td style = \"text-align: right;\">2</td><td style = \"text-align: right;\">2</td></tr><tr><td class = \"rowNumber\" style = \"font-weight: bold; text-align: right;\">7536</td><td style = \"text-align: right;\">3</td><td style = \"text-align: right;\">6</td><td style = \"text-align: right;\">2</td><td style = \"text-align: right;\">3</td><td style = \"text-align: right;\">1</td><td style = \"text-align: right;\">5</td><td style = \"text-align: right;\">2</td><td style = \"text-align: right;\">2</td><td style = \"text-align: right;\">2</td><td style = \"text-align: right;\">4</td><td style = \"text-align: right;\">2</td><td style = \"text-align: right;\">2</td><td style = \"text-align: right;\">3</td></tr><tr><td class = \"rowNumber\" style = \"font-weight: bold; text-align: right;\">7537</td><td style = \"text-align: right;\">3</td><td style = \"text-align: right;\">2</td><td style = \"text-align: right;\">2</td><td style = \"text-align: right;\">10</td><td style = \"text-align: right;\">1</td><td style = \"text-align: right;\">5</td><td style = \"text-align: right;\">2</td><td style = \"text-align: right;\">2</td><td style = \"text-align: right;\">2</td><td style = \"text-align: right;\">1</td><td style = \"text-align: right;\">3</td><td style = \"text-align: right;\">2</td><td style = \"text-align: right;\">2</td></tr><tr><td class = \"rowNumber\" style = \"font-weight: bold; text-align: right;\">7538</td><td style = \"text-align: right;\">3</td><td style = \"text-align: right;\">6</td><td style = \"text-align: right;\">3</td><td style = \"text-align: right;\">14</td><td style = \"text-align: right;\">2</td><td style = \"text-align: right;\">5</td><td style = \"text-align: right;\">2</td><td style = \"text-align: right;\">2</td><td style = \"text-align: right;\">2</td><td style = \"text-align: right;\">4</td><td style = \"text-align: right;\">3</td><td style = \"text-align: right;\">3</td><td style = \"text-align: right;\">1</td></tr><tr><td class = \"rowNumber\" style = \"font-weight: bold; text-align: right;\">7539</td><td style = \"text-align: right;\">3</td><td style = \"text-align: right;\">4</td><td style = \"text-align: right;\">2</td><td style = \"text-align: right;\">14</td><td style = \"text-align: right;\">1</td><td style = \"text-align: right;\">5</td><td style = \"text-align: right;\">2</td><td style = \"text-align: right;\">2</td><td style = \"text-align: right;\">2</td><td style = \"text-align: right;\">4</td><td style = \"text-align: right;\">4</td><td style = \"text-align: right;\">2</td><td style = \"text-align: right;\">2</td></tr><tr><td class = \"rowNumber\" style = \"font-weight: bold; text-align: right;\">7540</td><td style = \"text-align: right;\">1</td><td style = \"text-align: right;\">5</td><td style = \"text-align: right;\">1</td><td style = \"text-align: right;\">10</td><td style = \"text-align: right;\">4</td><td style = \"text-align: right;\">5</td><td style = \"text-align: right;\">2</td><td style = \"text-align: right;\">2</td><td style = \"text-align: right;\">2</td><td style = \"text-align: right;\">4</td><td style = \"text-align: right;\">3</td><td style = \"text-align: right;\">2</td><td style = \"text-align: right;\">3</td></tr></tbody></table></div>"
      ],
      "text/latex": [
       "\\begin{tabular}{r|ccccccccc}\n",
       "\t& workclass & education & marital\\_status & occupation & relationship & race & sex & native\\_country & \\\\\n",
       "\t\\hline\n",
       "\t& Int64 & Int64 & Int64 & Int64 & Int64 & Int64 & Int64 & Int64 & \\\\\n",
       "\t\\hline\n",
       "\t1 & 3 & 1 & 1 & 12 & 5 & 3 & 1 & 2 & $\\dots$ \\\\\n",
       "\t2 & 3 & 3 & 3 & 9 & 2 & 5 & 1 & 1 & $\\dots$ \\\\\n",
       "\t3 & 3 & 6 & 1 & 1 & 5 & 5 & 1 & 2 & $\\dots$ \\\\\n",
       "\t4 & 3 & 2 & 3 & 1 & 4 & 5 & 1 & 2 & $\\dots$ \\\\\n",
       "\t5 & 1 & 3 & 1 & 8 & 2 & 2 & 1 & 2 & $\\dots$ \\\\\n",
       "\t6 & 3 & 4 & 3 & 8 & 2 & 5 & 1 & 2 & $\\dots$ \\\\\n",
       "\t7 & 3 & 1 & 3 & 13 & 2 & 5 & 1 & 2 & $\\dots$ \\\\\n",
       "\t8 & 3 & 4 & 1 & 1 & 4 & 3 & 1 & 2 & $\\dots$ \\\\\n",
       "\t9 & 3 & 2 & 3 & 1 & 2 & 3 & 1 & 2 & $\\dots$ \\\\\n",
       "\t10 & 3 & 3 & 3 & 8 & 4 & 5 & 1 & 2 & $\\dots$ \\\\\n",
       "\t11 & 3 & 2 & 1 & 1 & 5 & 5 & 1 & 2 & $\\dots$ \\\\\n",
       "\t12 & 3 & 6 & 1 & 8 & 5 & 5 & 1 & 2 & $\\dots$ \\\\\n",
       "\t13 & 3 & 6 & 3 & 1 & 4 & 5 & 1 & 2 & $\\dots$ \\\\\n",
       "\t14 & 1 & 6 & 3 & 10 & 4 & 5 & 1 & 2 & $\\dots$ \\\\\n",
       "\t15 & 1 & 2 & 3 & 10 & 2 & 3 & 1 & 2 & $\\dots$ \\\\\n",
       "\t16 & 3 & 4 & 4 & 12 & 5 & 3 & 1 & 2 & $\\dots$ \\\\\n",
       "\t17 & 3 & 4 & 3 & 12 & 5 & 5 & 1 & 2 & $\\dots$ \\\\\n",
       "\t18 & 3 & 2 & 3 & 4 & 5 & 3 & 1 & 2 & $\\dots$ \\\\\n",
       "\t19 & 4 & 2 & 3 & 8 & 2 & 3 & 1 & 2 & $\\dots$ \\\\\n",
       "\t20 & 3 & 3 & 1 & 13 & 5 & 5 & 1 & 1 & $\\dots$ \\\\\n",
       "\t21 & 3 & 3 & 2 & 7 & 6 & 5 & 1 & 1 & $\\dots$ \\\\\n",
       "\t22 & 3 & 4 & 3 & 8 & 5 & 3 & 1 & 2 & $\\dots$ \\\\\n",
       "\t23 & 3 & 2 & 3 & 10 & 2 & 5 & 1 & 2 & $\\dots$ \\\\\n",
       "\t24 & 3 & 6 & 3 & 4 & 3 & 5 & 1 & 2 & $\\dots$ \\\\\n",
       "\t25 & 3 & 6 & 1 & 1 & 2 & 5 & 1 & 2 & $\\dots$ \\\\\n",
       "\t26 & 3 & 6 & 1 & 13 & 2 & 5 & 1 & 2 & $\\dots$ \\\\\n",
       "\t27 & 3 & 4 & 5 & 8 & 5 & 5 & 1 & 2 & $\\dots$ \\\\\n",
       "\t28 & 3 & 3 & 4 & 8 & 2 & 5 & 1 & 2 & $\\dots$ \\\\\n",
       "\t29 & 1 & 4 & 1 & 1 & 4 & 5 & 1 & 2 & $\\dots$ \\\\\n",
       "\t30 & 4 & 6 & 2 & 5 & 6 & 5 & 1 & 2 & $\\dots$ \\\\\n",
       "\t$\\dots$ & $\\dots$ & $\\dots$ & $\\dots$ & $\\dots$ & $\\dots$ & $\\dots$ & $\\dots$ & $\\dots$ &  \\\\\n",
       "\\end{tabular}\n"
      ],
      "text/plain": [
       "\u001b[1m7540×13 DataFrame\u001b[0m\n",
       "\u001b[1m  Row \u001b[0m│\u001b[1m workclass \u001b[0m\u001b[1m education \u001b[0m\u001b[1m marital_status \u001b[0m\u001b[1m occupation \u001b[0m\u001b[1m relationship \u001b[0m\u001b[1m race  \u001b[0m\u001b[1m\u001b[0m ⋯\n",
       "      │\u001b[90m Int64     \u001b[0m\u001b[90m Int64     \u001b[0m\u001b[90m Int64          \u001b[0m\u001b[90m Int64      \u001b[0m\u001b[90m Int64        \u001b[0m\u001b[90m Int64 \u001b[0m\u001b[90m\u001b[0m ⋯\n",
       "──────┼─────────────────────────────────────────────────────────────────────────\n",
       "    1 │         3          1               1          12             5      3  ⋯\n",
       "    2 │         3          3               3           9             2      5\n",
       "    3 │         3          6               1           1             5      5\n",
       "    4 │         3          2               3           1             4      5\n",
       "    5 │         1          3               1           8             2      2  ⋯\n",
       "    6 │         3          4               3           8             2      5\n",
       "    7 │         3          1               3          13             2      5\n",
       "    8 │         3          4               1           1             4      3\n",
       "    9 │         3          2               3           1             2      3  ⋯\n",
       "   10 │         3          3               3           8             4      5\n",
       "   11 │         3          2               1           1             5      5\n",
       "  ⋮   │     ⋮          ⋮            ⋮             ⋮            ⋮          ⋮    ⋱\n",
       " 7531 │         3          2               2          10             1      5\n",
       " 7532 │         3          4               2           7             1      5  ⋯\n",
       " 7533 │         3          2               2          10             1      5\n",
       " 7534 │         3          4               2           3             1      5\n",
       " 7535 │         3          1               2          12             1      4\n",
       " 7536 │         3          6               2           3             1      5  ⋯\n",
       " 7537 │         3          2               2          10             1      5\n",
       " 7538 │         3          6               3          14             2      5\n",
       " 7539 │         3          4               2          14             1      5\n",
       " 7540 │         1          5               1          10             4      5  ⋯\n",
       "\u001b[36m                                                 7 columns and 7519 rows omitted\u001b[0m"
      ]
     },
     "execution_count": 82,
     "metadata": {},
     "output_type": "execute_result"
    }
   ],
   "source": [
    "#####################################################\n",
    "# Reading data\n",
    "#####################################################\n",
    "if kamiran_version == 1\n",
    "    file_path = \"./../../DataSets/KamiranVersion/\";\n",
    "else\n",
    "    file_path = \"./../../DataSets/\";\n",
    "end\n",
    "\n",
    "data_train = CSV.read(file_path*train_file_name ,DataFrame);\n",
    "N_train = size(data_train,1);\n",
    "\n",
    "data_test = CSV.read(file_path*test_file_name ,DataFrame);\n",
    "N_test = size(data_test,1);\n",
    "\n",
    "if data_group != \"german_binary\"\n",
    "    data_calibration = CSV.read(file_path*calibration_file_name ,DataFrame);\n",
    "else\n",
    "    data_calibration = deepcopy(data_test);\n",
    "end\n"
   ]
  },
  {
   "cell_type": "code",
   "execution_count": 83,
   "metadata": {},
   "outputs": [
    {
     "data": {
      "text/plain": [
       "1"
      ]
     },
     "execution_count": 83,
     "metadata": {},
     "output_type": "execute_result"
    }
   ],
   "source": [
    "if data_group == \"german_binary\"\n",
    "    # Need to specify name of the column containing the class label and protected feature\n",
    "    class = :target; # name of the class label in the dataset\n",
    "    B = :age; # protected feautre\n",
    "\n",
    "    # Need to specify which column are categorical and which columns are non-categorical (quantitative)\n",
    "    # categorical features\n",
    "    F_c = [:chek_acc, :credit_history, :purpose, :saving_amo, :present_employmment, :p_status, :guatan, :property, :installment, :Housing, :job, :telephn, :foreign_worker];\n",
    "    nf_c=size(F_c,1);\n",
    "\n",
    "    # quantitative features\n",
    "    F_q=[:month_duration, :Credit_amo, :instalrate, :present_resident, :existing_cards, :no_people];\n",
    "    nf_q=size(F_q,1);\n",
    "    \n",
    "    # We need the class label to be binary (0,1). In this data, the class lables are (1,2)\n",
    "    data_train[!,class] .-= 1;\n",
    "    data_test[!,class] .-= 1;\n",
    "    data_calibration[!,class] .-= 1;\n",
    "    \n",
    "    positive_class = 1\n",
    "    deprvied_group = 1\n",
    "end\n",
    "\n",
    "\n",
    "if data_group == \"compas\"\n",
    "    # Need to specify name of the column containing the class label and protected feature\n",
    "    class = :target; # name of the class label in the dataset\n",
    "    B = :race; # protected feautre\n",
    "\n",
    "    # Need to specify which column are categorical and which columns are non-categorical (quantitative)\n",
    "    # categorical features\n",
    "    F_c = [:sex,:c_charge_degree];\n",
    "    nf_c=size(F_c,1);\n",
    "\n",
    "    # quantitative features\n",
    "    F_q=[:age_cat,:priors_count,:length_of_stay];\n",
    "    nf_q=size(F_q,1);\n",
    "    \n",
    "    # We need the class label to be binary (0,1). In this data, the class lables are (1,2)\n",
    "    data_train[!,class] .-= 1;\n",
    "    data_test[!,class] .-= 1;\n",
    "    data_calibration[!,class] .-= 1;\n",
    "    \n",
    "    \n",
    "    deprvied_group = 1\n",
    "    positive_class = 0\n",
    "end\n",
    "\n",
    "\n",
    "if data_group == \"adult\"\n",
    "    # Need to specify name of the column containing the class label and protected feature\n",
    "    class = :target; # name of the class label in the dataset\n",
    "    B = :sex; # protected feautre\n",
    "\n",
    "    # Need to specify which column are categorical and which columns are non-categorical (quantitative)\n",
    "    # categorical features\n",
    "    F_c = [:workclass, :education, :marital_status, :occupation, :relationship, :race, :native_country];\n",
    "    nf_c=size(F_c,1);\n",
    "\n",
    "    # quantitative features\n",
    "    F_q=[:hours_per_week, :age_group, :fnlwgt, :capital];\n",
    "    nf_q=size(F_q,1);\n",
    "    \n",
    "    # We need the class label to be binary (0,1). In this data, the class lables are (1,2)\n",
    "    data_train[!,class] .-= 1;\n",
    "    data_test[!,class] .-= 1;\n",
    "    data_calibration[!,class] .-= 1;\n",
    "    \n",
    "    deprvied_group = 1\n",
    "    positive_class = 1\n",
    "end\n"
   ]
  },
  {
   "cell_type": "code",
   "execution_count": 84,
   "metadata": {},
   "outputs": [
    {
     "data": {
      "text/plain": [
       "ind (generic function with 1 method)"
      ]
     },
     "execution_count": 84,
     "metadata": {},
     "output_type": "execute_result"
    }
   ],
   "source": [
    "#####################################################\n",
    "#index function\n",
    "#####################################################\n",
    "function ind(x)\n",
    "    if x==true\n",
    "  1\n",
    "    else\n",
    "  0\n",
    "    end\n",
    "end"
   ]
  },
  {
   "cell_type": "code",
   "execution_count": 85,
   "metadata": {},
   "outputs": [
    {
     "data": {
      "text/plain": [
       "get_tree (generic function with 1 method)"
      ]
     },
     "execution_count": 85,
     "metadata": {},
     "output_type": "execute_result"
    }
   ],
   "source": [
    "#####################################################\n",
    "#Tree structures\n",
    "#####################################################\n",
    "function get_tree(d)\n",
    "    nn = 2^d-1\n",
    "    nl = 2^d\n",
    "    \n",
    "    left=Vector{Array{Int64}}();\n",
    "    right = Vector{Array{Int64}}();\n",
    "    for n in 1:nn\n",
    "        crnt_depth = Int(floor(log(2,n)))\n",
    "        number_nodes_crnt_depth = 2^crnt_depth\n",
    "        num_leafs_under_n = 2^(d - crnt_depth)\n",
    "        \n",
    "        first_leaf_idx = (n-number_nodes_crnt_depth)*num_leafs_under_n+1\n",
    "        last_leaf_idx = first_leaf_idx+ num_leafs_under_n -1\n",
    "        mid_leaf_idx = Int(floor((first_leaf_idx+last_leaf_idx)/2))\n",
    "        n_lef = [first_leaf_idx:1:mid_leaf_idx;]\n",
    "        n_right = [mid_leaf_idx+1:1:last_leaf_idx;]\n",
    "        push!(left, n_lef);\n",
    "        push!(right, n_right);\n",
    "    end\n",
    "    \n",
    "    nn, nl, left, right\n",
    "end"
   ]
  },
  {
   "cell_type": "code",
   "execution_count": 86,
   "metadata": {},
   "outputs": [
    {
     "data": {
      "text/plain": [
       "get_MIP_model (generic function with 1 method)"
      ]
     },
     "execution_count": 86,
     "metadata": {},
     "output_type": "execute_result"
    }
   ],
   "source": [
    "function get_MIP_model(nn, nl, left, right, data_train, B, class, F_c, F_q, lambda)\n",
    "    # In this model we assume the class labels in data_train are binary (0 and 1)\n",
    "    data = deepcopy(data_train);\n",
    "    N = size(data,1)\n",
    "\n",
    "    # Parameters\n",
    "    M = maximum(maximum.(eachcol(data[!,F_q])));\n",
    "    M2= M;\n",
    "    ep= minimum(minimum.(eachcol(data[!,F_q])));\n",
    "\n",
    "    fair = 1; # whether we have fairness penalty (fair=1) or not (fair=0)\n",
    "    if lambda ==0\n",
    "        fair = 0\n",
    "    end\n",
    "\n",
    "    ############################################\n",
    "    # Defining the decision variables\n",
    "    ############################################\n",
    "    model = Model()\n",
    "\n",
    "    # r[i,l] = |y_i - z_l|*x[i,l] which is the prediction error if i is assigned to l\n",
    "    # sum(r[i,l] for l=1:nl)=|y_i - yhat_i|\n",
    "    @variable(model, r[1:N,1:nl]>=0); \n",
    "\n",
    "    # x[i,l] denotes if datapoint i is assigned to leaf l\n",
    "    @variable(model, x[1:N,1:nl],Bin);\n",
    "\n",
    "    # ac[n,j]=1 means that we split on categorical feature j at node n\n",
    "    # in the paper we call this variable p[n,j]\n",
    "    @variable(model, ac[1:nn,F_c],Bin); \n",
    "\n",
    "    # aq[n,j]=1 means that we split on quantitative feature j at node n\n",
    "    @variable(model, aq[1:nn,F_q],Bin); \n",
    "\n",
    "    # b[n] is the cut-off value at node n if we split on quantitative features\n",
    "    @variable(model, b[1:nn]); \n",
    "\n",
    "    @variable(model, gp[1:N,1:nn]>=0);\n",
    "    @variable(model, gn[1:N,1:nn]>=0);\n",
    "\n",
    "    # if wq[i,n]=1 datapoint i should go left at node n; Also this means that we have splitted on a quantitative feature\n",
    "    @variable(model, wq[1:N,1:nn],Bin);\n",
    "\n",
    "    # if wc[i,n]=1 datapoint i should go left at node n; Also this means that we have splitted on a categorical feature\n",
    "    @variable(model, wc[1:N,1:nn],Bin);\n",
    "\n",
    "\n",
    "    @variable(model, s[1:nn,f in F_c, k in levels(data[!,f])],Bin);\n",
    "\n",
    "\n",
    "    # v[i,l] = |y_i- z_l|\n",
    "    @variable(model, v[1:N,1:nl]>=0); \n",
    "\n",
    "    #z_l is the binary prediction that we make at leaf node l\n",
    "    @variable(model, z[1:nl], Bin); \n",
    "\n",
    "\n",
    "    if fair == 1\n",
    "        # to linearize the prediction in the penalty function\n",
    "        # rp[i,l] = x[i,l]*z[l]\n",
    "        # sum(rp[i,l] for l=1:nl) = yhat_i\n",
    "        @variable(model, rp[1:N,1:nl]>=0); \n",
    "\n",
    "        #to linearize the absolute value in the penalty function\n",
    "        # rpp[y,xp] = |P(y) - P(y|xp)|\n",
    "        @variable(model, rpp[y in levels(data[!,class]), xp in levels(data[!,B])] >=0);\n",
    "    end;\n",
    "\n",
    "    ############################################\n",
    "    # objective\n",
    "    ############################################\n",
    "    if fair == 1\n",
    "        # 1/N*sum(|y_i - yhat_i| over i) + lambda* sum(|P(y) - P(y|xp)| over y and xp)\n",
    "        @objective(model, Min , (1-lambda)*(1/N)*sum(r[i,l] for i = 1:N , l=1:nl) +\n",
    "            lambda*(sum(rpp[y,xp] for y in levels(data[!,class]), xp in levels(data[!,B])) ) );\n",
    "    else\n",
    "        # 1/N*sum(|y_i - yhat_i| over i)\n",
    "        @objective(model, Min , (1/N)*sum(r[i,l] for i = 1:N , l=1:nl));\n",
    "    end;\n",
    "\n",
    "\n",
    "    ############################################\n",
    "    #Fairness constraints\n",
    "    ############################################\n",
    "    if fair == 1\n",
    "        # We assune y is binary 0 and 1\n",
    "        # rpp[y,xp] = |P(y) - P(y|xp)|\n",
    "        for xp in levels(data[!,B])  \n",
    "            N_xp = size(data[(data[!,B] .== xp),:],1) # |i: data[i,B]=xp|  \n",
    "            if (N_xp!= 0)\n",
    "              @constraint(model, sum(sum(rp[i,l] for l=1:nl) for i=1:N)/ N\n",
    "                               - sum(sum(rp[i,l] for l=1:nl) for i=1:N if (data[i,B]==xp))/N_xp<= rpp[1,xp]);\n",
    "              @constraint(model, - sum(sum(rp[i,l] for l=1:nl) for i=1:N)/ N\n",
    "                                 + sum(sum(rp[i,l] for l=1:nl) for i=1:N if (data[i,B]==xp))/N_xp<= rpp[1,xp]);\n",
    "                                                \n",
    "              @constraint(model,   sum((1-sum(rp[i,l] for l=1:nl)) for i=1:N)/ N\n",
    "                                 - sum((1-sum(rp[i,l] for l=1:nl)) for i=1:N if (data[i,B]==xp))/N_xp<= rpp[0,xp]);\n",
    "              @constraint(model, - sum((1-sum(rp[i,l] for l=1:nl)) for i=1:N)/ N\n",
    "                                 + sum((1-sum(rp[i,l] for l=1:nl)) for i=1:N if (data[i,B]==xp))/N_xp<= rpp[0,xp]);                                                \n",
    "            end\n",
    "        end\n",
    "                                        \n",
    "                                        \n",
    "        # rp[i,l] = x[i,l]*z[l] so sum(rp[i,l] over l) = yhat_i\n",
    "        for i in 1:N, l in 1:nl\n",
    "            @constraint(model,rp[i,l]<=M2*x[i,l]);\n",
    "            @constraint(model,rp[i,l]<=z[l]);\n",
    "            @constraint(model,rp[i,l]>=z[l]-M2*(1-x[i,l]));\n",
    "        end\n",
    "    end;\n",
    "\n",
    "    ##############################################\n",
    "    # nodes constraints\n",
    "    ##############################################\n",
    "    for n in 1:nn\n",
    "        @constraint(model,sum(ac[n,f] for f in F_c)+sum(aq[n,f] for f in F_q)==1);\n",
    "    end\n",
    "\n",
    "\n",
    "    ##############################################\n",
    "    # categoricals\n",
    "    ##############################################\n",
    "    for n in 1:nn, f in F_c, k in levels(data[!,f])\n",
    "        @constraint(model,s[n,f,k] <= ac[n,f]);\n",
    "    end\n",
    "\n",
    "    for i in 1:N, n in 1:nn\n",
    "        @constraint(model,wc[i,n] == sum(sum(s[n,f,k]*ind(data[i,f]==k) for k in levels(data[!,f])) for f in F_c) );\n",
    "        for l in left[n]\n",
    "            @constraint(model,x[i,l] <= wc[i,n]+1-sum(ac[n,f] for f in F_c));\n",
    "        end\n",
    "        for l in right[n]\n",
    "            @constraint(model,x[i,l]<=1-wc[i,n]+1-sum(ac[n,f] for f in F_c));\n",
    "        end\n",
    "    end\n",
    "    ##############################################\n",
    "    # non categoricals\n",
    "    ##############################################\n",
    "    for i in 1:N, n in 1:nn\n",
    "        @constraint(model,b[n]-sum(aq[n,f]*data[i,f] for f in F_q) == gp[i,n]-gn[i,n]);\n",
    "        @constraint(model,gp[i,n]<=M*wq[i,n]);\n",
    "        @constraint(model,gn[i,n]<=M*(1-wq[i,n]));\n",
    "        @constraint(model,gp[i,n]+gn[i,n]>=ep*(1-wq[i,n])); \n",
    "        for l in right[n]\n",
    "            @constraint(model,x[i,l]<=1-wq[i,n]+1-sum(aq[n,f] for f in F_q));\n",
    "        end\n",
    "        for l in left[n]\n",
    "            @constraint(model,x[i,l]<=wq[i,n]+1-sum(aq[n,f] for f in F_q));\n",
    "        end\n",
    "    end\n",
    "    ##############################################\n",
    "    # linearize prediction error\n",
    "    ##############################################\n",
    "    for i in 1:N\n",
    "        @constraint(model,sum(x[i,l] for l=1:nl)==1);\n",
    "        for l in 1:nl\n",
    "            @constraint(model,r[i,l]<=M2*x[i,l]);\n",
    "            @constraint(model,r[i,l]<=v[i,l]);\n",
    "            @constraint(model,r[i,l]>=v[i,l]-M2*(1-x[i,l]));\n",
    "            @constraint(model,v[i,l]>=  data[i,class]-z[l]); \n",
    "            @constraint(model,v[i,l]>= -data[i,class]+z[l]); \n",
    "        end\n",
    "    end\n",
    "                                    \n",
    "    \n",
    "    model\n",
    "                                    \n",
    "end"
   ]
  },
  {
   "cell_type": "code",
   "execution_count": 87,
   "metadata": {},
   "outputs": [
    {
     "name": "stdout",
     "output_type": "stream",
     "text": [
      "Academic license - for non-commercial use only - expires 2023-03-03\n",
      "Gurobi Optimizer version 9.1.0 build v9.1.0rc0 (mac64)\n",
      "Thread count: 2 physical cores, 4 logical processors, using up to 4 threads\n",
      "Optimize a model with 1176421 rows, 543070 columns and 5293599 nonzeros\n",
      "Model fingerprint: 0x50cf5ba6\n",
      "Variable types: 316697 continuous, 226373 integer (226373 binary)\n",
      "Coefficient statistics:\n",
      "  Matrix range     [1e+00, 4e+00]\n",
      "  Objective range  [4e-05, 4e-05]\n",
      "  Bounds range     [0e+00, 0e+00]\n",
      "  RHS range        [1e+00, 4e+00]\n",
      "Found heuristic solution: objective 0.2489280\n",
      "Presolve removed 100484 rows and 10000 columns (presolve time = 6s) ...\n",
      "Presolve removed 271656 rows and 90688 columns (presolve time = 11s) ...\n",
      "Presolve removed 271656 rows and 90688 columns (presolve time = 18s) ...\n",
      "Presolve removed 271656 rows and 90688 columns (presolve time = 21s) ...\n",
      "Presolve removed 271656 rows and 90688 columns (presolve time = 26s) ...\n",
      "Presolve removed 271656 rows and 90688 columns\n",
      "Presolve time: 28.81s\n",
      "Presolved: 904765 rows, 452382 columns, 5110999 nonzeros\n",
      "Variable types: 135729 continuous, 316653 integer (316653 binary)\n",
      "\n",
      "Deterministic concurrent LP optimizer: dual simplex and barrier\n",
      "Showing barrier log only...\n",
      "\n",
      "Root barrier log...\n",
      "\n",
      "Ordering time: 0.36s\n",
      "\n",
      "Barrier statistics:\n",
      " Dense cols : 151\n",
      " AA' NZ     : 6.763e+06\n",
      " Factor NZ  : 2.959e+07 (roughly 800 MBytes of memory)\n",
      " Factor Ops : 1.578e+09 (less than 1 second per iteration)\n",
      " Threads    : 1\n",
      "\n",
      "                  Objective                Residual\n",
      "Iter       Primal          Dual         Primal    Dual     Compl     Time\n",
      "   0   7.62299500e+00 -2.93992500e+04  2.06e+01 0.00e+00  1.64e-01    38s\n",
      "   1   1.64149658e+00 -3.30723722e+04  2.53e+00 3.02e-09  3.05e-02    39s\n",
      "   2   6.22593593e-01 -4.77634786e+03  3.79e-03 7.95e-05  2.90e-03    41s\n",
      "   3   6.20063809e-01 -4.39797982e+00  2.98e-09 1.30e-06  3.04e-06    43s\n",
      "   4   8.35520375e-02 -5.93657681e-01  1.54e-12 1.49e-07  4.10e-07    46s\n",
      "   5   9.78369337e-05 -1.24674688e-03  2.40e-09 1.18e-11  8.14e-10    48s\n",
      "   6   9.78833284e-08 -1.24670063e-06  3.85e-13 1.54e-13  8.14e-13    50s\n",
      "   7   1.11599507e-13 -1.42462963e-12  1.06e-13 9.54e-20  9.30e-19    51s\n",
      "\n",
      "Barrier solved model in 7 iterations and 51.20 seconds\n",
      "Optimal objective 1.11599507e-13\n",
      "\n",
      "\n",
      "Root crossover log...\n",
      "\n",
      "       3 DPushes remaining with DInf 0.0000000e+00                53s\n",
      "\n",
      "  203755 PPushes remaining with PInf 0.0000000e+00                53s\n",
      "       0 PPushes remaining with PInf 0.0000000e+00                56s\n",
      "\n",
      "  Push phase complete: Pinf 0.0000000e+00, Dinf 0.0000000e+00     56s\n",
      "\n",
      "\n",
      "Root simplex log...\n",
      "\n",
      "Iteration    Objective       Primal Inf.    Dual Inf.      Time\n",
      "  203758    0.0000000e+00   0.000000e+00   0.000000e+00     56s\n",
      "  203758    0.0000000e+00   0.000000e+00   0.000000e+00     57s\n",
      "Concurrent spin time: 0.00s\n",
      "\n",
      "Solved with barrier\n",
      "\n",
      "Root relaxation: objective 0.000000e+00, 203758 iterations, 26.59 seconds\n",
      "\n",
      "    Nodes    |    Current Node    |     Objective Bounds      |     Work\n",
      " Expl Unexpl |  Obj  Depth IntInf | Incumbent    BestBd   Gap | It/Node Time\n",
      "\n",
      "     0     0    0.00000    0 118586    0.24893    0.00000   100%     -   83s\n",
      "     0     0    0.00000    0 123998    0.24893    0.00000   100%     -  151s\n",
      "     0     0    0.00000    0 123998    0.24893    0.00000   100%     -  237s\n",
      "     0     0    0.00000    0 117898    0.24893    0.00000   100%     -  357s\n",
      "\n",
      "Cutting planes:\n",
      "  Gomory: 4\n",
      "  MIR: 2\n",
      "  Flow cover: 2\n",
      "\n",
      "Explored 1 nodes (254085 simplex iterations) in 400.13 seconds\n",
      "Thread count was 4 (of 4 available processors)\n",
      "\n",
      "Solution count 1: 0.248928 \n",
      "\n",
      "Time limit reached\n",
      "Best objective 2.489279872685e-01, best bound 0.000000000000e+00, gap 100.0000%\n",
      "\n",
      "User-callback calls 26368, time in user-callback 0.07 sec\n"
     ]
    }
   ],
   "source": [
    "# Let's build the model\n",
    "nn, nl, left, right = get_tree(depth);\n",
    "DT_model = get_MIP_model(nn, nl, left, right, data_train, B, class, F_c, F_q, lambda);\n",
    "\n",
    "# Let's solve the model\n",
    "# set_optimizer_attribute(DT_model, \"TimeLimit\", time_limit);\n",
    "set_time_limit_sec(DT_model, time_limit)\n",
    "set_optimizer(DT_model, Gurobi.Optimizer);\n",
    "JuMP.optimize!(DT_model);"
   ]
  },
  {
   "cell_type": "code",
   "execution_count": 88,
   "metadata": {},
   "outputs": [],
   "source": [
    "# f = open(\"model.lp\", \"w\")\n",
    "# print(f, DT_model)\n",
    "# close(f)"
   ]
  },
  {
   "cell_type": "code",
   "execution_count": 89,
   "metadata": {},
   "outputs": [
    {
     "data": {
      "text/plain": [
       "* Solver : Gurobi\n",
       "\n",
       "* Status\n",
       "  Result count       : 1\n",
       "  Termination status : TIME_LIMIT\n",
       "  Message from the solver:\n",
       "  \"Optimization terminated because the time expended exceeded the value specified in the TimeLimit parameter.\"\n",
       "\n",
       "* Candidate solution (result #1)\n",
       "  Primal status      : FEASIBLE_POINT\n",
       "  Dual status        : NO_SOLUTION\n",
       "  Objective value    : 2.48928e-01\n",
       "  Objective bound    : 0.00000e+00\n",
       "  Relative gap       : 1.00000e+00\n",
       "  Dual objective value : 0.00000e+00\n",
       "\n",
       "* Work counters\n",
       "  Solve time (sec)   : 4.00144e+02\n",
       "  Barrier iterations : 0\n",
       "  Node count         : 1\n"
      ]
     },
     "execution_count": 89,
     "metadata": {},
     "output_type": "execute_result"
    }
   ],
   "source": [
    "solution_summary(DT_model)"
   ]
  },
  {
   "cell_type": "code",
   "execution_count": 90,
   "metadata": {},
   "outputs": [
    {
     "data": {
      "text/plain": [
       "0.24892798726848472"
      ]
     },
     "execution_count": 90,
     "metadata": {},
     "output_type": "execute_result"
    }
   ],
   "source": [
    "objective_value(DT_model)"
   ]
  },
  {
   "cell_type": "code",
   "execution_count": 91,
   "metadata": {},
   "outputs": [
    {
     "data": {
      "text/plain": [
       "print_tree (generic function with 1 method)"
      ]
     },
     "execution_count": 91,
     "metadata": {},
     "output_type": "execute_result"
    }
   ],
   "source": [
    "function get_predictions(nn,nl,left,right, ac, aq, b, s, z, time_limit, data_org, F_c, F_q)\n",
    "    data = deepcopy(data_org);\n",
    "    N = size(data,1)\n",
    "    \n",
    "    #####################################################################\n",
    "    model_pred = Model(Gurobi.Optimizer)\n",
    "    set_optimizer_attribute(model_pred, \"TimeLimit\", time_limit)\n",
    "    M = maximum(maximum.(eachcol(data[!,F_q])));\n",
    "    M2= M;\n",
    "    ep= minimum(minimum.(eachcol(data[!,F_q])));\n",
    "    #####################################################################\n",
    "    @variable(model_pred, x[1:N,1:nl],Bin);\n",
    "    @variable(model_pred, gp[1:N,1:nn]>=0);\n",
    "    @variable(model_pred, gn[1:N,1:nn]>=0);\n",
    "    @variable(model_pred, wq[1:N,1:nn],Bin);\n",
    "    @variable(model_pred, wc[1:N,1:nn],Bin);\n",
    "    \n",
    "    # routing constraints for categorical features\n",
    "    for i in 1:N,n in 1:nn\n",
    "        @constraint(model_pred,wc[i,n] == sum(sum(s[n,f,k]*ind(data[i,f]==k) for k in levels(data[!,f])) for f in F_c) );\n",
    "        for l in left[n]\n",
    "            @constraint(model_pred,x[i,l] <= wc[i,n]+1-sum(ac[n,f] for f in F_c));\n",
    "        end\n",
    "        for l in right[n]\n",
    "            @constraint(model_pred,x[i,l]<=1-wc[i,n]+1-sum(ac[n,f] for f in F_c));\n",
    "        end\n",
    "    end\n",
    "    \n",
    "    # routing constraints for non categoricals features\n",
    "    for i in 1:N, n in 1:nn\n",
    "        @constraint(model_pred,b[n]-sum(aq[n,f]*data[i,f] for f in F_q) == gp[i,n]-gn[i,n]);\n",
    "        @constraint(model_pred,gp[i,n]<=M*wq[i,n]);\n",
    "        @constraint(model_pred,gn[i,n]<=M*(1-wq[i,n]));\n",
    "        @constraint(model_pred,gp[i,n]+gn[i,n]>=ep*(1-wq[i,n])); #if b=criteria then w is 1 and go left\n",
    "        for l in right[n]\n",
    "            @constraint(model_pred,x[i,l]<=1-wq[i,n]+1-sum(aq[n,f] for f in F_q));\n",
    "        end\n",
    "        for l in left[n]\n",
    "            @constraint(model_pred,x[i,l]<=wq[i,n]+1-sum(aq[n,f] for f in F_q));\n",
    "        end\n",
    "    end\n",
    "    \n",
    "    for i in 1:N\n",
    "        @constraint(model_pred,sum(x[i,l] for l=1:nl)==1);\n",
    "    end\n",
    "    #####################################################################\n",
    "    set_silent(model_pred)\n",
    "    optimize!(model_pred)\n",
    "    x = round.(JuMP.value.(x));\n",
    "    pred= x*z;\n",
    "    acc = sum(pred .== data[!,class])/N\n",
    "    \n",
    "    \n",
    "    pred, acc\n",
    "end\n",
    "\n",
    "\n",
    "function get_SP(data, label_souce, B, deprvied_group, positive_class, kamiran_version)\n",
    "    #data = deepcopy(data_org);\n",
    "    disc = 0\n",
    "    if kamiran_version==1\n",
    "        sp_non_deprived = size(data[(data[!,B] .!= deprvied_group) .& (data[!,label_souce] .== positive_class) ,:],1)/\n",
    "        size(data[(data[!,B] .!= deprvied_group) ,:],1)\n",
    "        \n",
    "        sp_deprived = size(data[(data[!,B] .== deprvied_group) .& (data[!,label_souce] .== positive_class) ,:],1)/\n",
    "        size(data[(data[!,B] .== deprvied_group) ,:],1)\n",
    "        \n",
    "        disc = sp_non_deprived - sp_deprived\n",
    "    else\n",
    "        \n",
    "        for (p, p_prime) in combinations(levels(data[!,B]),2)\n",
    "            N_p = size(data[(data[!,B] .== p) ,:],1)\n",
    "            N_p_prime = size(data[(data[!,B] .== p_prime) ,:],1)\n",
    "            \n",
    "            if N_p!=0 && N_p_prime!=0\n",
    "                sp_p = size(data[(data[!,B] .== p) .& (data[!,label_souce] .== positive_class) ,:],1)/ N_p\n",
    "\n",
    "                sp_p_prime = size(data[(data[!,B] .== p_prime) .& (data[!,label_souce] .== positive_class) ,:],1)/N_p_prime\n",
    "\n",
    "                disc = max(disc, abs(sp_p-sp_p_prime))\n",
    "            end\n",
    "            \n",
    "        end\n",
    "    end\n",
    "        \n",
    "        \n",
    "    disc\n",
    "end\n",
    "\n",
    "\n",
    "function get_DIDI(data, class, label_souce, B)\n",
    "    #data = deepcopy(data_org);\n",
    "    disc = 0\n",
    "    N = size(data,1)\n",
    "    for y in levels(data[!,class]), xp in levels(data[!,B]) \n",
    "        N_xp = size(data[(data[!,B] .== xp),:],1)\n",
    "        if (N_xp!= 0)\n",
    "            P_y = size(data[(data[!,label_souce] .== y) ,:],1)/N\n",
    "            P_y_given_xp = size(data[(data[!,B] .== xp) .& (data[!,label_souce] .== y) ,:],1)/N_xp\n",
    "            disc+= abs(P_y-P_y_given_xp)\n",
    "        end\n",
    "    end\n",
    "    \n",
    "    disc\n",
    "end\n",
    "\n",
    "function print_tree(nn, nl, data, F_c, F_q, ac, aq, b, s, z)\n",
    "    tree = []\n",
    "    nodes = []\n",
    "    leaves = []\n",
    "    for n in 1:nn\n",
    "        for j in F_c\n",
    "            if ac[n,j]==1\n",
    "                left_levels = []\n",
    "                for k in levels(data[!,j])\n",
    "                    if s[n,j,k]==1\n",
    "                        append!(left_levels,k)\n",
    "                    end\n",
    "                end\n",
    "                @printf(\"######## Node %d: Go to left if %s is in %s \\n\", n,j,string(left_levels))\n",
    "                push!(nodes, (n,j, string(left_levels)));\n",
    "            end\n",
    "        end\n",
    "        \n",
    "        for j in F_q\n",
    "            if aq[n,j]==1\n",
    "                @printf(\"######## Node %d: Go to left if %s <= %f \\n\", n,j,b[n])\n",
    "                push!(nodes, (n,j, b[n]));\n",
    "            end\n",
    "        end\n",
    "    end\n",
    "        \n",
    "    for n in 1:nl\n",
    "        @printf(\"######## Leaf %d: %d \\n\",n ,z[n])\n",
    "        push!(leaves, (n,z[n]));\n",
    "    end\n",
    "    \n",
    "    push!(tree, nodes)\n",
    "    push!(tree, leaves)\n",
    "    \n",
    "    tree\n",
    "end"
   ]
  },
  {
   "cell_type": "code",
   "execution_count": 92,
   "metadata": {},
   "outputs": [],
   "source": [
    "# Get the values of each decision variable\n",
    "# We also round the values of binary decision variable to make sure we have sharp 0 and 1s\n",
    "ac = round.(JuMP.value.(DT_model[:ac]));\n",
    "aq = round.(JuMP.value.(DT_model[:aq]));\n",
    "b = JuMP.value.(DT_model[:b]);\n",
    "s = round.(JuMP.value.(DT_model[:s]));\n",
    "z = round.(JuMP.value.(DT_model[:z]));"
   ]
  },
  {
   "cell_type": "code",
   "execution_count": 93,
   "metadata": {},
   "outputs": [
    {
     "name": "stdout",
     "output_type": "stream",
     "text": [
      "######## Node 1: Go to left if relationship is in Any[] \n",
      "######## Node 2: Go to left if workclass is in Any[] \n",
      "######## Node 3: Go to left if workclass is in Any[] \n",
      "######## Leaf 1: 0 \n",
      "######## Leaf 2: 0 \n",
      "######## Leaf 3: 0 \n",
      "######## Leaf 4: 0 \n"
     ]
    }
   ],
   "source": [
    "tree = print_tree(nn, nl, data_train, F_c, F_q, ac, aq, b, s, z);"
   ]
  },
  {
   "cell_type": "code",
   "execution_count": 101,
   "metadata": {},
   "outputs": [
    {
     "data": {
      "text/plain": [
       "2-element Vector{Any}:\n",
       " Any[(1, :relationship, \"Any[]\"), (2, :workclass, \"Any[]\"), (3, :workclass, \"Any[]\")]\n",
       " Any[(1, 0.0), (2, 0.0), (3, 0.0), (4, 0.0)]"
      ]
     },
     "execution_count": 101,
     "metadata": {},
     "output_type": "execute_result"
    }
   ],
   "source": [
    "tree"
   ]
  },
  {
   "cell_type": "code",
   "execution_count": 94,
   "metadata": {},
   "outputs": [
    {
     "name": "stdout",
     "output_type": "stream",
     "text": [
      "Academic license - for non-commercial use only - expires 2023-03-03\n",
      "train_acc=\t0.7510720127315327\n",
      "Academic license - for non-commercial use only - expires 2023-03-03\n",
      "test_acc=\t0.7510940193608274\n",
      "Academic license - for non-commercial use only - expires 2023-03-03\n",
      "calibration_acc=\t0.7510610079575597\n"
     ]
    }
   ],
   "source": [
    "train_pred,train_acc = get_predictions(nn,nl,left,right, ac, aq, b, s, z, time_limit, data_train, F_c, F_q);\n",
    "data_train[!,:class_pred] = train_pred;\n",
    "println(\"train_acc=\\t\",train_acc)\n",
    "\n",
    "\n",
    "test_pred,test_acc = get_predictions(nn,nl,left,right, ac, aq, b, s, z, time_limit, data_test, F_c, F_q);\n",
    "data_test[!,:class_pred] = test_pred;\n",
    "println(\"test_acc=\\t\",test_acc)\n",
    "\n",
    "\n",
    "calibration_pred,calibration_acc = get_predictions(nn,nl,left,right, ac, aq, b, s, z, time_limit, data_calibration, F_c, F_q);\n",
    "data_calibration[!,:class_pred] = calibration_pred;\n",
    "println(\"calibration_acc=\\t\",calibration_acc)"
   ]
  },
  {
   "cell_type": "code",
   "execution_count": 95,
   "metadata": {},
   "outputs": [
    {
     "name": "stdout",
     "output_type": "stream",
     "text": [
      "train_data_didi=\t0.4003023256062832\n",
      "train_pred_didi=\t0.0\n",
      "train_data_sp=\t0.20015116280314163\n",
      "train_pred_sp=\t0.0\n"
     ]
    }
   ],
   "source": [
    "train_data_didi = get_DIDI(data_train, class, class, B);\n",
    "train_pred_didi = get_DIDI(data_train, class, :class_pred, B);\n",
    "\n",
    "train_data_sp = get_SP(data_train, class,       B, deprvied_group, positive_class, kamiran_version);\n",
    "train_pred_sp = get_SP(data_train, :class_pred, B, deprvied_group, positive_class, kamiran_version);\n",
    "\n",
    "println(\"train_data_didi=\\t\",train_data_didi)\n",
    "println(\"train_pred_didi=\\t\",train_pred_didi)\n",
    "println(\"train_data_sp=\\t\",train_data_sp)\n",
    "println(\"train_pred_sp=\\t\",train_pred_sp)"
   ]
  },
  {
   "cell_type": "code",
   "execution_count": 96,
   "metadata": {},
   "outputs": [
    {
     "name": "stdout",
     "output_type": "stream",
     "text": [
      "test_data_didi=\t0.4003642966787216\n",
      "test_pred_didi=\t0.0\n",
      "test_data_sp=\t0.20018214833936082\n",
      "test_pred_sp=\t0.0\n"
     ]
    }
   ],
   "source": [
    "test_data_didi = get_DIDI(data_test, class, class, B);\n",
    "test_pred_didi = get_DIDI(data_test, class, :class_pred, B);\n",
    "\n",
    "test_data_sp = get_SP(data_test, class,       B, deprvied_group, positive_class, kamiran_version);\n",
    "test_pred_sp = get_SP(data_test, :class_pred, B, deprvied_group, positive_class, kamiran_version);\n",
    "\n",
    "println(\"test_data_didi=\\t\",test_data_didi)\n",
    "println(\"test_pred_didi=\\t\",test_pred_didi)\n",
    "println(\"test_data_sp=\\t\",test_data_sp)\n",
    "println(\"test_pred_sp=\\t\",test_pred_sp)"
   ]
  },
  {
   "cell_type": "code",
   "execution_count": 97,
   "metadata": {},
   "outputs": [
    {
     "name": "stdout",
     "output_type": "stream",
     "text": [
      "calibration_data_didi=\t0.4002713273970431\n",
      "calibration_pred_didi=\t0.0\n",
      "calibration_data_sp=\t0.20013566369852157\n",
      "calibration_pred_sp=\t0.0\n"
     ]
    }
   ],
   "source": [
    "calibration_data_didi = get_DIDI(data_calibration, class, class, B);\n",
    "calibration_pred_didi = get_DIDI(data_calibration, class, :class_pred, B);\n",
    "\n",
    "calibration_data_sp = get_SP(data_calibration, class,       B, deprvied_group, positive_class, kamiran_version);\n",
    "calibration_pred_sp = get_SP(data_calibration, :class_pred, B, deprvied_group, positive_class, kamiran_version);\n",
    "\n",
    "println(\"calibration_data_didi=\\t\",calibration_data_didi)\n",
    "println(\"calibration_pred_didi=\\t\",calibration_pred_didi)\n",
    "println(\"calibration_data_sp=\\t\",calibration_data_sp)\n",
    "println(\"calibration_pred_sp=\\t\",calibration_pred_sp)"
   ]
  },
  {
   "cell_type": "code",
   "execution_count": 98,
   "metadata": {},
   "outputs": [
    {
     "data": {
      "text/plain": [
       "0.24892798726848472"
      ]
     },
     "execution_count": 98,
     "metadata": {},
     "output_type": "execute_result"
    }
   ],
   "source": [
    "objective_value(DT_model)"
   ]
  },
  {
   "cell_type": "code",
   "execution_count": 99,
   "metadata": {},
   "outputs": [
    {
     "data": {
      "text/plain": [
       "0.24892798726846732"
      ]
     },
     "execution_count": 99,
     "metadata": {},
     "output_type": "execute_result"
    }
   ],
   "source": [
    "(1-lambda)*(1-train_acc)+lambda*train_pred_didi"
   ]
  },
  {
   "cell_type": "code",
   "execution_count": 100,
   "metadata": {},
   "outputs": [
    {
     "data": {
      "text/plain": [
       "\"./../../Results/MIP_DIDI_adult_train_2.csv_depth_2_lambda_0.csv\""
      ]
     },
     "execution_count": 100,
     "metadata": {},
     "output_type": "execute_result"
    }
   ],
   "source": [
    "####################################################################################\n",
    "#Saving results\n",
    "####################################################################################\n",
    "filePath = \"./../../Results/\"*\"MIP_DIDI_\"*train_file_name*\"_depth_\"* string(depth)*\"_lambda_\"*string(lambda)*\".csv\";\n",
    "\n",
    "header=[\"Approach\", \"train_file_name\", \"test_file_name\", \"kamiran_version\", \"N_train\", \"depth\", \"lambda\", \"time_limit\", \n",
    "           \"obj_val\", \"gap\", \n",
    "           \"train_acc\", \"train_data_didi\", \"train_pred_didi\", \"train_data_sp\", \"train_pred_sp\",\n",
    "           \"test_acc\", \"test_data_didi\", \"test_pred_didi\", \"test_data_sp\", \"test_pred_sp\",\n",
    "           \"calibration_acc\", \"calibration_data_didi\", \"calibration_pred_didi\", \"calibration_data_sp\", \"calibration_pred_sp\",\"tree\"];\n",
    "\n",
    "row_input=[\"MIP_DIDI\", train_file_name, test_file_name, kamiran_version, N_train, depth, lambda, time_limit, \n",
    "           objective_value(DT_model), relative_gap(DT_model::Model), \n",
    "           train_acc, train_data_didi, train_pred_didi, train_data_sp, train_pred_sp,\n",
    "           test_acc, test_data_didi, test_pred_didi, test_data_sp, test_pred_sp,\n",
    "           calibration_acc, calibration_data_didi, calibration_pred_didi, calibration_data_sp, calibration_pred_sp, string(tree)];\n",
    "\n",
    "CSV.write(filePath,  Tables.table(row_input), header = header)"
   ]
  },
  {
   "cell_type": "code",
   "execution_count": null,
   "metadata": {},
   "outputs": [],
   "source": []
  }
 ],
 "metadata": {
  "kernelspec": {
   "display_name": "Julia 1.8.5",
   "language": "julia",
   "name": "julia-1.8"
  },
  "language_info": {
   "file_extension": ".jl",
   "mimetype": "application/julia",
   "name": "julia",
   "version": "1.8.5"
  }
 },
 "nbformat": 4,
 "nbformat_minor": 2
}
