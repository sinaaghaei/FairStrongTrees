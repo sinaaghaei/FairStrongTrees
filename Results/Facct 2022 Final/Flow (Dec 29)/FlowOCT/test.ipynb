{
 "cells": [
  {
   "cell_type": "code",
   "execution_count": 1,
   "id": "83fefe4d",
   "metadata": {},
   "outputs": [],
   "source": [
    "import pandas as pd\n",
    "import numpy as np\n",
    "import os"
   ]
  },
  {
   "cell_type": "code",
   "execution_count": 3,
   "id": "1dc69705",
   "metadata": {},
   "outputs": [],
   "source": [
    "header = pd.read_csv('../../../../header.csv')\n",
    "compas = pd.read_csv('compas.csv', header=None, names=header.columns)"
   ]
  },
  {
   "cell_type": "code",
   "execution_count": 5,
   "id": "e38a19c8",
   "metadata": {},
   "outputs": [
    {
     "data": {
      "text/plain": [
       "1    1380\n",
       "3    1312\n",
       "Name: depth, dtype: int64"
      ]
     },
     "execution_count": 5,
     "metadata": {},
     "output_type": "execute_result"
    }
   ],
   "source": [
    "compas['depth'].value_counts()"
   ]
  },
  {
   "cell_type": "code",
   "execution_count": 6,
   "id": "861eef6a",
   "metadata": {},
   "outputs": [],
   "source": [
    "adult = pd.read_csv('limited-adult-2.csv', header=None, names=header.columns)"
   ]
  },
  {
   "cell_type": "code",
   "execution_count": 7,
   "id": "1b288274",
   "metadata": {},
   "outputs": [
    {
     "data": {
      "text/plain": [
       "1    1105\n",
       "3    1105\n",
       "Name: depth, dtype: int64"
      ]
     },
     "execution_count": 7,
     "metadata": {},
     "output_type": "execute_result"
    }
   ],
   "source": [
    "adult['depth'].value_counts()"
   ]
  },
  {
   "cell_type": "code",
   "execution_count": null,
   "id": "76709c4b",
   "metadata": {},
   "outputs": [],
   "source": []
  }
 ],
 "metadata": {
  "kernelspec": {
   "display_name": "Python 3",
   "language": "python",
   "name": "python3"
  },
  "language_info": {
   "codemirror_mode": {
    "name": "ipython",
    "version": 3
   },
   "file_extension": ".py",
   "mimetype": "text/x-python",
   "name": "python",
   "nbconvert_exporter": "python",
   "pygments_lexer": "ipython3",
   "version": "3.8.8"
  }
 },
 "nbformat": 4,
 "nbformat_minor": 5
}
